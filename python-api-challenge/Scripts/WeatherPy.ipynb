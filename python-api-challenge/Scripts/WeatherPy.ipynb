{
 "cells": [
  {
   "cell_type": "markdown",
   "metadata": {},
   "source": [
    "# WeatherPy\n",
    "----\n",
    "\n",
    "#### Note\n",
    "* Instructions have been included for each segment. You do not have to follow them exactly, but they are included to help you think through the steps."
   ]
  },
  {
   "cell_type": "code",
   "execution_count": 1,
   "metadata": {
    "scrolled": true
   },
   "outputs": [],
   "source": [
    "# Dependencies and Setup\n",
    "import matplotlib.pyplot as plt\n",
    "import pandas as pd\n",
    "import numpy as np\n",
    "import requests\n",
    "import time\n",
    "from scipy.stats import linregress\n",
    "import pprint\n",
    "from datetime import datetime\n",
    "\n",
    "# Import API key\n",
    "from config import Weather_key\n",
    "\n",
    "# Incorporated citipy to determine city based on latitude and longitude\n",
    "from citipy import citipy\n",
    "\n",
    "# Output File (CSV)\n",
    "output_data_file = \"output_data/weather_api.csv\"\n",
    "\n",
    "# Range of latitudes and longitudes\n",
    "lat_range = (-90, 90)\n",
    "lng_range = (-180, 180)"
   ]
  },
  {
   "cell_type": "markdown",
   "metadata": {},
   "source": [
    "## Generate Cities List"
   ]
  },
  {
   "cell_type": "markdown",
   "metadata": {},
   "source": [
    "### Perform API Calls\n",
    "* Perform a weather check on each city using a series of successive API calls.\n",
    "* Include a print log of each city as it'sbeing processed (with the city number and city name).\n",
    "\n",
    "> **HINT:** The OpenWeatherMap API only allows 60 calls per minute under their free plan. Try using `time.sleep(60)` after each set of 50 cities to avoid API errors due to large calls."
   ]
  },
  {
   "cell_type": "code",
   "execution_count": 2,
   "metadata": {},
   "outputs": [],
   "source": [
    "# List for holding lat_lngs and cities\n",
    "lat_lngs = []\n",
    "cities = []"
   ]
  },
  {
   "cell_type": "code",
   "execution_count": 3,
   "metadata": {},
   "outputs": [],
   "source": [
    "# Create a set of random lat and lng combinations\n",
    "lats = np.random.uniform(low=-90.000, high=90.000, size=1500)\n",
    "lngs = np.random.uniform(low=-180.000, high=180.000, size=1500)\n",
    "lat_lngs = zip(lats, lngs)"
   ]
  },
  {
   "cell_type": "code",
   "execution_count": 4,
   "metadata": {},
   "outputs": [],
   "source": [
    "# Identify nearest city for each lat, lng combination\n",
    "for lat_lng in lat_lngs:\n",
    "    city = citipy.nearest_city(lat_lng[0], lat_lng[1]).city_name\n",
    "    \n",
    "    # If the city is unique, then add it to a our cities list\n",
    "    if city not in cities:\n",
    "        cities.append(city)"
   ]
  },
  {
   "cell_type": "code",
   "execution_count": 5,
   "metadata": {},
   "outputs": [
    {
     "data": {
      "text/plain": [
       "639"
      ]
     },
     "execution_count": 5,
     "metadata": {},
     "output_type": "execute_result"
    }
   ],
   "source": [
    "# Print the city count to confirm sufficient count\n",
    "len(cities)"
   ]
  },
  {
   "cell_type": "markdown",
   "metadata": {},
   "source": [
    "## Perform API Calls"
   ]
  },
  {
   "cell_type": "code",
   "execution_count": 7,
   "metadata": {},
   "outputs": [
    {
     "data": {
      "text/plain": [
       "'http://api.openweathermap.org/data/2.5/forecast?id=524901&APPID=508d0cd8da5b49cf05907328896cb2eb'"
      ]
     },
     "execution_count": 7,
     "metadata": {},
     "output_type": "execute_result"
    }
   ],
   "source": [
    "url = \"http://api.openweathermap.org/data/2.5/forecast?id=524901&APPID=\"\n",
    "target_url = url + Weather_key\n",
    "target_url"
   ]
  },
  {
   "cell_type": "code",
   "execution_count": 10,
   "metadata": {},
   "outputs": [],
   "source": [
    "weather_response = requests.get(target_url)\n",
    "weather_json = weather_response.json()\n",
    "# print(json.dumps(weather_json, indent=4, sort_keys=True))"
   ]
  },
  {
   "cell_type": "code",
   "execution_count": 11,
   "metadata": {},
   "outputs": [
    {
     "name": "stdout",
     "output_type": "stream",
     "text": [
      "Moscow\n"
     ]
    }
   ],
   "source": [
    "#print(weather_json['city']['name'])\n",
    "print(weather_json['city']['name'])"
   ]
  },
  {
   "cell_type": "code",
   "execution_count": 12,
   "metadata": {},
   "outputs": [
    {
     "name": "stdout",
     "output_type": "stream",
     "text": [
      "Processing record 1 of Set 1 | monrovia\n",
      "Processing record 2 of Set 1 | oktyabrskiy\n",
      "Processing record 3 of Set 1 | barrow\n",
      "Processing record 4 of Set 1 | capitan bado\n",
      "Processing record 5 of Set 1 | bambous virieux\n",
      "not found\n",
      "Processing record 6 of Set 1 | bama\n",
      "Processing record 7 of Set 1 | nishihara\n",
      "Processing record 8 of Set 1 | tuktoyaktuk\n",
      "Processing record 9 of Set 1 | mar del plata\n",
      "Processing record 10 of Set 1 | puerto ayora\n",
      "Processing record 11 of Set 1 | butaritari\n",
      "Processing record 12 of Set 1 | saint-philippe\n",
      "Processing record 13 of Set 1 | kahului\n",
      "Processing record 14 of Set 1 | dingle\n",
      "Processing record 15 of Set 1 | busselton\n",
      "Processing record 16 of Set 1 | mahon\n",
      "not found\n",
      "Processing record 17 of Set 1 | rikitea\n",
      "Processing record 18 of Set 1 | magadan\n",
      "Processing record 19 of Set 1 | burnie\n",
      "Processing record 20 of Set 1 | vaini\n",
      "Processing record 21 of Set 1 | bonavista\n",
      "not found\n",
      "Processing record 22 of Set 1 | avarua\n",
      "Processing record 23 of Set 1 | banda aceh\n",
      "Processing record 24 of Set 1 | hay river\n",
      "Processing record 25 of Set 1 | severo-kurilsk\n",
      "Processing record 26 of Set 1 | jamestown\n",
      "Processing record 27 of Set 1 | yellowknife\n",
      "Processing record 28 of Set 1 | longyearbyen\n",
      "Processing record 29 of Set 1 | mahebourg\n",
      "Processing record 30 of Set 1 | nome\n",
      "Processing record 31 of Set 1 | victoria\n",
      "Processing record 32 of Set 1 | atuona\n",
      "Processing record 33 of Set 1 | ushuaia\n",
      "Processing record 34 of Set 1 | ulladulla\n",
      "Processing record 35 of Set 1 | roma\n",
      "Processing record 36 of Set 1 | bluff\n",
      "Processing record 37 of Set 1 | college\n",
      "not found\n",
      "Processing record 38 of Set 1 | cape town\n",
      "not found\n",
      "Processing record 39 of Set 1 | airai\n",
      "Processing record 40 of Set 1 | porto santo\n",
      "not found\n",
      "not found\n",
      "Processing record 41 of Set 1 | hobart\n",
      "not found\n",
      "Processing record 42 of Set 1 | mataura\n",
      "Processing record 43 of Set 1 | portland\n",
      "Processing record 44 of Set 1 | sao filipe\n",
      "not found\n",
      "Processing record 45 of Set 1 | nelson bay\n",
      "Processing record 46 of Set 1 | lavrentiya\n",
      "Processing record 47 of Set 1 | locri\n",
      "Processing record 48 of Set 1 | nikolskoye\n",
      "Processing record 49 of Set 1 | sola\n",
      "Processing record 50 of Set 1 | georgetown\n",
      "Processing record 51 of Set 1 | port alfred\n",
      "Processing record 52 of Set 1 | tupiza\n",
      "Processing record 53 of Set 1 | brigantine\n",
      "Processing record 54 of Set 1 | punta arenas\n",
      "Processing record 55 of Set 1 | naze\n",
      "Processing record 56 of Set 1 | codrington\n",
      "Processing record 57 of Set 1 | vestmannaeyjar\n",
      "Processing record 58 of Set 1 | port elizabeth\n",
      "Processing record 59 of Set 1 | ascoli piceno\n",
      "Processing record 60 of Set 1 | flinders\n",
      "Processing record 61 of Set 1 | cherskiy\n",
      "Processing record 62 of Set 1 | castro\n",
      "Processing record 63 of Set 1 | camacha\n",
      "Processing record 64 of Set 1 | arraial do cabo\n",
      "Processing record 65 of Set 1 | qaanaaq\n",
      "Processing record 66 of Set 1 | saskylakh\n",
      "Processing record 67 of Set 1 | hermanus\n",
      "Processing record 68 of Set 1 | chokurdakh\n",
      "Processing record 69 of Set 1 | kruisfontein\n",
      "Processing record 70 of Set 1 | morro da fumaca\n",
      "Processing record 71 of Set 1 | coihaique\n",
      "Processing record 72 of Set 1 | pasighat\n",
      "Processing record 73 of Set 1 | puerto carreno\n",
      "Processing record 74 of Set 1 | yerbogachen\n",
      "Processing record 75 of Set 1 | fort wellington\n",
      "Processing record 76 of Set 1 | bredasdorp\n",
      "Processing record 77 of Set 1 | vao\n",
      "Processing record 78 of Set 1 | kapaa\n",
      "Processing record 79 of Set 1 | paraiso\n",
      "Processing record 80 of Set 1 | port blair\n",
      "Processing record 81 of Set 1 | kodiak\n",
      "Processing record 82 of Set 1 | cidreira\n",
      "Processing record 83 of Set 1 | carbonia\n",
      "Processing record 84 of Set 1 | chililabombwe\n",
      "Processing record 85 of Set 1 | touros\n",
      "Processing record 86 of Set 1 | richards bay\n",
      "not found\n",
      "Processing record 87 of Set 1 | pacific grove\n",
      "Processing record 88 of Set 1 | taoudenni\n",
      "Processing record 89 of Set 1 | dali\n",
      "Processing record 90 of Set 1 | nouadhibou\n",
      "Processing record 91 of Set 1 | hilo\n",
      "Processing record 92 of Set 1 | sao felix do xingu\n",
      "Processing record 93 of Set 1 | bethel\n",
      "Processing record 94 of Set 1 | hithadhoo\n",
      "Processing record 95 of Set 1 | east london\n",
      "Processing record 96 of Set 1 | inverell\n",
      "Processing record 97 of Set 1 | salalah\n",
      "Processing record 98 of Set 1 | upernavik\n",
      "Processing record 99 of Set 1 | talaya\n",
      "Processing record 100 of Set 1 | prieska\n",
      "Processing record 101 of Set 1 | quatre cocos\n",
      "Processing record 102 of Set 1 | kununurra\n",
      "Processing record 103 of Set 1 | bafq\n",
      "Processing record 104 of Set 1 | port augusta\n",
      "Processing record 105 of Set 1 | biloela\n",
      "Processing record 106 of Set 1 | albany\n",
      "Processing record 107 of Set 1 | san juan\n",
      "not found\n",
      "Processing record 108 of Set 1 | clarence town\n",
      "Processing record 109 of Set 1 | tocopilla\n",
      "Processing record 110 of Set 1 | leningradskiy\n",
      "Processing record 111 of Set 1 | gaildorf\n",
      "Processing record 112 of Set 1 | ponta do sol\n",
      "Processing record 113 of Set 1 | half moon bay\n",
      "Processing record 114 of Set 1 | thompson\n",
      "Processing record 115 of Set 1 | belmonte\n",
      "Processing record 116 of Set 1 | itaqui\n",
      "Processing record 117 of Set 1 | comodoro rivadavia\n",
      "Processing record 118 of Set 1 | cayenne\n",
      "Processing record 119 of Set 1 | la ronge\n",
      "Processing record 120 of Set 1 | quang ngai\n",
      "Processing record 121 of Set 1 | sibu\n",
      "Processing record 122 of Set 1 | ribeira grande\n",
      "not found\n",
      "Processing record 123 of Set 1 | dano\n",
      "Processing record 124 of Set 1 | omboue\n",
      "Processing record 125 of Set 1 | da nang\n",
      "Processing record 126 of Set 1 | puri\n",
      "Processing record 127 of Set 1 | nanortalik\n",
      "Processing record 128 of Set 1 | clyde river\n",
      "Processing record 129 of Set 1 | lerwick\n",
      "Processing record 130 of Set 1 | guerrero negro\n",
      "Processing record 131 of Set 1 | zhigansk\n",
      "Processing record 132 of Set 1 | mantua\n",
      "Processing record 133 of Set 1 | dehui\n",
      "Processing record 134 of Set 1 | whitehorse\n",
      "Processing record 135 of Set 1 | alexandria\n",
      "not found\n",
      "Processing record 136 of Set 1 | beringovskiy\n",
      "Processing record 137 of Set 1 | san cristobal\n",
      "Processing record 138 of Set 1 | abu samrah\n",
      "Processing record 139 of Set 1 | pisco\n",
      "Processing record 140 of Set 1 | vung tau\n",
      "Processing record 141 of Set 1 | esperance\n",
      "Processing record 142 of Set 1 | bengkulu\n",
      "Processing record 143 of Set 1 | klaksvik\n",
      "Processing record 144 of Set 1 | santa luzia\n",
      "Processing record 145 of Set 1 | hofn\n",
      "Processing record 146 of Set 1 | fonte boa\n",
      "Processing record 147 of Set 1 | okha\n",
      "Processing record 148 of Set 1 | teya\n",
      "Processing record 149 of Set 1 | sitka\n",
      "Processing record 150 of Set 1 | carnarvon\n",
      "Processing record 151 of Set 1 | kaitangata\n",
      "Processing record 152 of Set 1 | norman wells\n",
      "Processing record 153 of Set 1 | banagher\n",
      "Processing record 154 of Set 1 | yar-sale\n",
      "Processing record 155 of Set 1 | patnagarh\n",
      "Processing record 156 of Set 1 | sur\n",
      "Processing record 157 of Set 1 | pio xii\n",
      "Processing record 158 of Set 1 | san patricio\n",
      "Processing record 159 of Set 1 | velikodvorskiy\n",
      "Processing record 160 of Set 1 | aden\n",
      "Processing record 161 of Set 1 | grand-bourg\n",
      "Processing record 162 of Set 1 | port hawkesbury\n",
      "Processing record 163 of Set 1 | kushima\n",
      "Processing record 164 of Set 1 | emerald\n",
      "not found\n",
      "Processing record 165 of Set 1 | sobolevo\n",
      "Processing record 166 of Set 1 | kula\n",
      "Processing record 167 of Set 1 | mercedes\n",
      "Processing record 168 of Set 1 | portel\n",
      "Processing record 169 of Set 1 | margate\n",
      "Processing record 170 of Set 1 | ottawa\n",
      "Processing record 171 of Set 1 | saint-leu\n",
      "Processing record 172 of Set 1 | urumqi\n",
      "Processing record 173 of Set 1 | geraldton\n",
      "Processing record 174 of Set 1 | chulym\n",
      "Processing record 175 of Set 1 | xining\n",
      "Processing record 176 of Set 1 | dudinka\n",
      "Processing record 177 of Set 1 | lahaina\n",
      "Processing record 178 of Set 1 | saint-joseph\n",
      "Processing record 179 of Set 1 | jardim\n",
      "Processing record 180 of Set 1 | high rock\n",
      "Processing record 181 of Set 1 | oktyabrskoye\n",
      "Processing record 182 of Set 1 | sao jose da coroa grande\n",
      "Processing record 183 of Set 1 | carballo\n",
      "Processing record 184 of Set 1 | najran\n",
      "Processing record 185 of Set 1 | albufeira\n",
      "Processing record 186 of Set 1 | chuy\n",
      "Processing record 187 of Set 1 | ourem\n",
      "Processing record 188 of Set 1 | chapais\n",
      "Processing record 189 of Set 1 | new norfolk\n",
      "Processing record 190 of Set 1 | san ignacio\n",
      "Processing record 191 of Set 1 | te anau\n",
      "Processing record 192 of Set 1 | itaituba\n",
      "Processing record 193 of Set 1 | campoverde\n",
      "Processing record 194 of Set 1 | chifeng\n",
      "Processing record 195 of Set 1 | dikson\n",
      "Processing record 196 of Set 1 | pishva\n",
      "Processing record 197 of Set 1 | yaan\n",
      "Processing record 198 of Set 1 | yeppoon\n",
      "Processing record 199 of Set 1 | mbaiki\n",
      "Processing record 200 of Set 1 | fortuna\n",
      "Processing record 201 of Set 1 | lexington\n",
      "not found\n",
      "Processing record 202 of Set 1 | lata\n",
      "Processing record 203 of Set 1 | manbij\n",
      "Processing record 204 of Set 1 | wagar\n",
      "Processing record 205 of Set 1 | beitbridge\n",
      "Processing record 206 of Set 1 | khatanga\n",
      "Processing record 207 of Set 1 | kysyl-syr\n",
      "not found\n",
      "Processing record 208 of Set 1 | helena\n",
      "Processing record 209 of Set 1 | toora-khem\n",
      "Processing record 210 of Set 1 | north bend\n",
      "not found\n",
      "Processing record 211 of Set 1 | bloemfontein\n",
      "Processing record 212 of Set 1 | marawi\n",
      "Processing record 213 of Set 1 | prince rupert\n",
      "Processing record 214 of Set 1 | lufilufi\n",
      "Processing record 215 of Set 1 | shingu\n",
      "Processing record 216 of Set 1 | rio gallegos\n",
      "Processing record 217 of Set 1 | puertollano\n",
      "Processing record 218 of Set 1 | ende\n",
      "not found\n",
      "Processing record 219 of Set 1 | samana\n",
      "Processing record 220 of Set 1 | grindavik\n",
      "Processing record 221 of Set 1 | phan thiet\n",
      "Processing record 222 of Set 1 | fort nelson\n",
      "Processing record 223 of Set 1 | mackenzie\n",
      "Processing record 224 of Set 1 | porto novo\n",
      "Processing record 225 of Set 1 | lasa\n",
      "Processing record 226 of Set 1 | kaputa\n",
      "Processing record 227 of Set 1 | lorengau\n",
      "Processing record 228 of Set 1 | ayagoz\n",
      "Processing record 229 of Set 1 | meulaboh\n",
      "Processing record 230 of Set 1 | recreio\n",
      "Processing record 231 of Set 1 | broome\n",
      "Processing record 232 of Set 1 | kanniyakumari\n",
      "Processing record 233 of Set 1 | giresun\n",
      "Processing record 234 of Set 1 | luderitz\n",
      "Processing record 235 of Set 1 | urucara\n",
      "Processing record 236 of Set 1 | koygorodok\n",
      "not found\n",
      "Processing record 237 of Set 1 | sabzevar\n",
      "Processing record 238 of Set 1 | trelew\n",
      "Processing record 239 of Set 1 | berlevag\n",
      "Processing record 240 of Set 1 | mumford\n",
      "Processing record 241 of Set 1 | ishinomaki\n",
      "Processing record 242 of Set 1 | valparaiso\n",
      "Processing record 243 of Set 1 | skjervoy\n",
      "Processing record 244 of Set 1 | dandong\n",
      "Processing record 245 of Set 1 | aklavik\n",
      "Processing record 246 of Set 1 | sambava\n",
      "Processing record 247 of Set 1 | marsh harbour\n",
      "Processing record 248 of Set 1 | ipixuna\n",
      "not found\n",
      "Processing record 249 of Set 1 | port hedland\n",
      "not found\n",
      "Processing record 250 of Set 1 | cervo\n",
      "Processing record 251 of Set 1 | matagami\n",
      "Processing record 252 of Set 1 | tarakan\n",
      "Processing record 253 of Set 1 | eyl\n",
      "Processing record 254 of Set 1 | katsuura\n",
      "Processing record 255 of Set 1 | narsaq\n",
      "not found\n",
      "Processing record 256 of Set 1 | lebu\n",
      "Processing record 257 of Set 1 | saldanha\n",
      "Processing record 258 of Set 1 | aksarka\n",
      "Processing record 259 of Set 1 | urusha\n",
      "Processing record 260 of Set 1 | mayo\n",
      "Processing record 261 of Set 1 | dayong\n",
      "Processing record 262 of Set 1 | kipini\n",
      "Processing record 263 of Set 1 | havoysund\n",
      "Processing record 264 of Set 1 | palu\n",
      "Processing record 265 of Set 1 | tuatapere\n",
      "Processing record 266 of Set 1 | cuamba\n",
      "Processing record 267 of Set 1 | zeya\n",
      "Processing record 268 of Set 1 | kerekegyhaza\n",
      "Processing record 269 of Set 1 | neuquen\n",
      "Processing record 270 of Set 1 | akhty\n",
      "Processing record 271 of Set 1 | yinchuan\n",
      "Processing record 272 of Set 1 | torrox\n",
      "Processing record 273 of Set 1 | moroto\n",
      "Processing record 274 of Set 1 | alegrete\n",
      "Processing record 275 of Set 1 | vicuna\n",
      "Processing record 276 of Set 1 | kimbe\n",
      "Processing record 277 of Set 1 | fukue\n",
      "Processing record 278 of Set 1 | kamaishi\n",
      "Processing record 279 of Set 1 | krasnoselkup\n",
      "Processing record 280 of Set 1 | healdsburg\n",
      "Processing record 281 of Set 1 | saint anthony\n",
      "Processing record 282 of Set 1 | chebsara\n",
      "Processing record 283 of Set 1 | zhoucheng\n",
      "Processing record 284 of Set 1 | guilin\n",
      "not found\n",
      "not found\n",
      "Processing record 285 of Set 1 | udachnyy\n",
      "Processing record 286 of Set 1 | souillac\n",
      "Processing record 287 of Set 1 | iquique\n",
      "Processing record 288 of Set 1 | humberto de campos\n",
      "not found\n",
      "not found\n",
      "Processing record 289 of Set 1 | dzerzhinsk\n",
      "not found\n",
      "Processing record 290 of Set 1 | guadalajara\n",
      "Processing record 291 of Set 1 | sterling\n",
      "Processing record 292 of Set 1 | tartu\n",
      "Processing record 293 of Set 1 | mehamn\n",
      "Processing record 294 of Set 1 | nemuro\n",
      "Processing record 295 of Set 1 | sayat\n",
      "Processing record 296 of Set 1 | alofi\n",
      "Processing record 297 of Set 1 | kamenka\n",
      "Processing record 298 of Set 1 | isiro\n",
      "Processing record 299 of Set 1 | manakara\n",
      "Processing record 300 of Set 1 | provideniya\n",
      "Processing record 301 of Set 1 | bac lieu\n",
      "Processing record 302 of Set 1 | kalianget\n",
      "Processing record 303 of Set 1 | rawson\n",
      "Processing record 304 of Set 1 | maragogi\n",
      "Processing record 305 of Set 1 | dukat\n",
      "Processing record 306 of Set 1 | yamada\n",
      "Processing record 307 of Set 1 | nalbari\n",
      "Processing record 308 of Set 1 | pangnirtung\n",
      "Processing record 309 of Set 1 | talnakh\n",
      "Processing record 310 of Set 1 | husavik\n",
      "Processing record 311 of Set 1 | lagoa\n",
      "Processing record 312 of Set 1 | sainte-martine\n",
      "Processing record 313 of Set 1 | yashkul\n",
      "Processing record 314 of Set 1 | limon\n",
      "Processing record 315 of Set 1 | hoi an\n",
      "Processing record 316 of Set 1 | pitimbu\n",
      "Processing record 317 of Set 1 | miles city\n",
      "Processing record 318 of Set 1 | linxia\n",
      "Processing record 319 of Set 1 | tasiilaq\n",
      "Processing record 320 of Set 1 | rio verde de mato grosso\n",
      "Processing record 321 of Set 1 | tonj\n",
      "not found\n",
      "Processing record 322 of Set 1 | tonekabon\n",
      "Processing record 323 of Set 1 | kutum\n",
      "Processing record 324 of Set 1 | houma\n",
      "Processing record 325 of Set 1 | namatanai\n",
      "Processing record 326 of Set 1 | council bluffs\n",
      "Processing record 327 of Set 1 | japura\n",
      "not found\n",
      "Processing record 328 of Set 1 | torbay\n",
      "Processing record 329 of Set 1 | cap malheureux\n",
      "Processing record 330 of Set 1 | padang\n",
      "Processing record 331 of Set 1 | beawar\n",
      "Processing record 332 of Set 1 | canatlan\n",
      "Processing record 333 of Set 1 | san jeronimo\n",
      "Processing record 334 of Set 1 | chara\n",
      "Processing record 335 of Set 1 | havre-saint-pierre\n",
      "not found\n",
      "Processing record 336 of Set 1 | vargem alta\n",
      "Processing record 337 of Set 1 | quesnel\n",
      "not found\n",
      "Processing record 338 of Set 1 | paamiut\n",
      "Processing record 339 of Set 1 | ventspils\n",
      "Processing record 340 of Set 1 | show low\n",
      "Processing record 341 of Set 1 | ginda\n",
      "Processing record 342 of Set 1 | vilcun\n",
      "Processing record 343 of Set 1 | warrnambool\n",
      "Processing record 344 of Set 1 | peniche\n",
      "Processing record 345 of Set 1 | devrek\n",
      "Processing record 346 of Set 1 | san quintin\n",
      "Processing record 347 of Set 1 | fairbanks\n",
      "Processing record 348 of Set 1 | luanda\n",
      "Processing record 349 of Set 1 | aykhal\n",
      "Processing record 350 of Set 1 | wankaner\n",
      "Processing record 351 of Set 1 | arman\n",
      "Processing record 352 of Set 1 | avera\n",
      "Processing record 353 of Set 1 | mount isa\n",
      "Processing record 354 of Set 1 | druzhba\n",
      "not found\n",
      "Processing record 355 of Set 1 | kavaratti\n",
      "Processing record 356 of Set 1 | potosi\n",
      "Processing record 357 of Set 1 | ligayan\n",
      "Processing record 358 of Set 1 | sisimiut\n",
      "Processing record 359 of Set 1 | coquimbo\n",
      "Processing record 360 of Set 1 | saint george\n",
      "Processing record 361 of Set 1 | nizhniy kuranakh\n",
      "Processing record 362 of Set 1 | moron\n",
      "Processing record 363 of Set 1 | grand-santi\n",
      "Processing record 364 of Set 1 | kavieng\n",
      "Processing record 365 of Set 1 | falciu\n",
      "Processing record 366 of Set 1 | lethem\n",
      "Processing record 367 of Set 1 | molepolole\n",
      "Processing record 368 of Set 1 | bethanien\n",
      "Processing record 369 of Set 1 | dolores\n",
      "Processing record 370 of Set 1 | maraa\n",
      "not found\n",
      "not found\n",
      "Processing record 371 of Set 1 | owando\n",
      "Processing record 372 of Set 1 | bumba\n",
      "not found\n",
      "Processing record 373 of Set 1 | uri\n",
      "Processing record 374 of Set 1 | asau\n",
      "Processing record 375 of Set 1 | amapa\n",
      "Processing record 376 of Set 1 | jaora\n",
      "not found\n",
      "Processing record 377 of Set 1 | kitimat\n",
      "Processing record 378 of Set 1 | takoradi\n",
      "Processing record 379 of Set 1 | bathsheba\n",
      "Processing record 380 of Set 1 | agadez\n",
      "not found\n",
      "Processing record 381 of Set 1 | qui nhon\n",
      "Processing record 382 of Set 1 | tessalit\n",
      "Processing record 383 of Set 1 | dekernes\n",
      "Processing record 384 of Set 1 | soria\n",
      "Processing record 385 of Set 1 | abha\n",
      "Processing record 386 of Set 1 | westport\n",
      "Processing record 387 of Set 1 | axim\n",
      "Processing record 388 of Set 1 | naushki\n",
      "Processing record 389 of Set 1 | gidam\n",
      "Processing record 390 of Set 1 | caravelas\n",
      "Processing record 391 of Set 1 | itapeva\n",
      "Processing record 392 of Set 1 | ahuimanu\n",
      "Processing record 393 of Set 1 | kinsale\n",
      "not found\n",
      "Processing record 394 of Set 1 | kieta\n",
      "Processing record 395 of Set 1 | matara\n",
      "Processing record 396 of Set 1 | ola\n",
      "Processing record 397 of Set 1 | kailua\n",
      "Processing record 398 of Set 1 | harlingen\n",
      "Processing record 399 of Set 1 | rozkishne\n",
      "Processing record 400 of Set 1 | alice springs\n",
      "not found\n",
      "Processing record 401 of Set 1 | bakel\n",
      "Processing record 402 of Set 1 | aripuana\n",
      "Processing record 403 of Set 1 | shenjiamen\n",
      "Processing record 404 of Set 1 | srednekolymsk\n",
      "Processing record 405 of Set 1 | baiyin\n",
      "not found\n",
      "Processing record 406 of Set 1 | qaqortoq\n",
      "Processing record 407 of Set 1 | egvekinot\n",
      "Processing record 408 of Set 1 | bukama\n",
      "Processing record 409 of Set 1 | tabou\n",
      "Processing record 410 of Set 1 | lompoc\n",
      "Processing record 411 of Set 1 | zalantun\n",
      "Processing record 412 of Set 1 | kuytun\n",
      "Processing record 413 of Set 1 | hami\n",
      "Processing record 414 of Set 1 | karratha\n",
      "Processing record 415 of Set 1 | varhaug\n",
      "Processing record 416 of Set 1 | gao\n",
      "Processing record 417 of Set 1 | bakchar\n",
      "Processing record 418 of Set 1 | along\n",
      "Processing record 419 of Set 1 | hambantota\n",
      "Processing record 420 of Set 1 | osypenko\n",
      "Processing record 421 of Set 1 | pevek\n",
      "Processing record 422 of Set 1 | kurilsk\n",
      "Processing record 423 of Set 1 | la primavera\n",
      "Processing record 424 of Set 1 | dawei\n",
      "Processing record 425 of Set 1 | zhaotong\n",
      "Processing record 426 of Set 1 | bejar\n",
      "Processing record 427 of Set 1 | redcar\n",
      "Processing record 428 of Set 1 | laguna\n",
      "Processing record 429 of Set 1 | ixtapa\n",
      "Processing record 430 of Set 1 | antofagasta\n",
      "Processing record 431 of Set 1 | tomatlan\n",
      "Processing record 432 of Set 1 | ancud\n",
      "Processing record 433 of Set 1 | wangou\n",
      "Processing record 434 of Set 1 | camana\n",
      "Processing record 435 of Set 1 | farafangana\n",
      "Processing record 436 of Set 1 | birao\n",
      "Processing record 437 of Set 1 | dillon\n",
      "Processing record 438 of Set 1 | morgan city\n",
      "Processing record 439 of Set 1 | mingaora\n",
      "Processing record 440 of Set 1 | nabire\n",
      "Processing record 441 of Set 1 | takhtamygda\n",
      "Processing record 442 of Set 1 | vestmanna\n",
      "Processing record 443 of Set 1 | suluq\n",
      "Processing record 444 of Set 1 | oyo\n",
      "Processing record 445 of Set 1 | moba\n",
      "Processing record 446 of Set 1 | santa lucia\n",
      "not found\n",
      "Processing record 447 of Set 1 | taga\n",
      "Processing record 448 of Set 1 | teguldet\n",
      "Processing record 449 of Set 1 | independence\n",
      "Processing record 450 of Set 1 | salta\n",
      "Processing record 451 of Set 1 | kaoma\n",
      "Processing record 452 of Set 1 | mount gambier\n",
      "Processing record 453 of Set 1 | taree\n",
      "Processing record 454 of Set 1 | akyab\n",
      "Processing record 455 of Set 1 | tianpeng\n",
      "not found\n",
      "Processing record 456 of Set 1 | vagur\n",
      "Processing record 457 of Set 1 | gagnoa\n",
      "not found\n",
      "Processing record 458 of Set 1 | kaka\n",
      "Processing record 459 of Set 1 | florianopolis\n",
      "Processing record 460 of Set 1 | isangel\n",
      "Processing record 461 of Set 1 | lagos\n",
      "not found\n",
      "Processing record 462 of Set 1 | fuxin\n",
      "Processing record 463 of Set 1 | mao\n",
      "Processing record 464 of Set 1 | shimoda\n",
      "Processing record 465 of Set 1 | roebourne\n",
      "not found\n",
      "not found\n",
      "Processing record 466 of Set 1 | katherine\n",
      "Processing record 467 of Set 1 | luangwa\n",
      "Processing record 468 of Set 1 | lillooet\n",
      "Processing record 469 of Set 1 | turayf\n",
      "Processing record 470 of Set 1 | vanavara\n",
      "Processing record 471 of Set 1 | necochea\n",
      "Processing record 472 of Set 1 | chingola\n",
      "Processing record 473 of Set 1 | porto tolle\n",
      "Processing record 474 of Set 1 | santa fe\n",
      "Processing record 475 of Set 1 | mindelo\n",
      "Processing record 476 of Set 1 | aksu\n",
      "Processing record 477 of Set 1 | berezovyy\n",
      "Processing record 478 of Set 1 | tecolutla\n",
      "Processing record 479 of Set 1 | sao paulo de olivenca\n",
      "Processing record 480 of Set 1 | boa vista\n",
      "Processing record 481 of Set 1 | chitral\n",
      "Processing record 482 of Set 1 | harper\n",
      "Processing record 483 of Set 1 | miraflores\n",
      "Processing record 484 of Set 1 | wajid\n",
      "Processing record 485 of Set 1 | fayaoue\n",
      "Processing record 486 of Set 1 | port lincoln\n",
      "Processing record 487 of Set 1 | havelock\n",
      "Processing record 488 of Set 1 | raudeberg\n",
      "Processing record 489 of Set 1 | tsumeb\n",
      "Processing record 490 of Set 1 | hasaki\n",
      "Processing record 491 of Set 1 | qandala\n",
      "Processing record 492 of Set 1 | chor\n",
      "Processing record 493 of Set 1 | broken hill\n",
      "Processing record 494 of Set 1 | susaki\n",
      "Processing record 495 of Set 1 | berwick\n",
      "Processing record 496 of Set 1 | tual\n",
      "Processing record 497 of Set 1 | zhuhai\n",
      "Processing record 498 of Set 1 | san isidro\n",
      "Processing record 499 of Set 1 | labuhan\n",
      "Processing record 500 of Set 1 | hamilton\n",
      "Processing record 501 of Set 1 | tiksi\n",
      "Processing record 502 of Set 1 | carire\n",
      "Processing record 503 of Set 1 | thinadhoo\n",
      "Processing record 504 of Set 1 | saint-ambroise\n",
      "Processing record 505 of Set 1 | ilulissat\n",
      "Processing record 506 of Set 1 | genhe\n",
      "Processing record 507 of Set 1 | ostrovnoy\n",
      "Processing record 508 of Set 1 | cockburn town\n",
      "Processing record 509 of Set 1 | lesnoy\n",
      "Processing record 510 of Set 1 | mariakani\n",
      "Processing record 511 of Set 1 | ivanteyevka\n",
      "Processing record 512 of Set 1 | sturgis\n",
      "Processing record 513 of Set 1 | sydney\n",
      "not found\n",
      "Processing record 514 of Set 1 | suixi\n",
      "Processing record 515 of Set 1 | mahajanga\n",
      "Processing record 516 of Set 1 | phalodi\n",
      "not found\n",
      "Processing record 517 of Set 1 | eureka\n",
      "Processing record 518 of Set 1 | ahipara\n",
      "Processing record 519 of Set 1 | jalu\n",
      "Processing record 520 of Set 1 | jaumave\n",
      "Processing record 521 of Set 1 | kant\n",
      "Processing record 522 of Set 1 | port hardy\n",
      "not found\n",
      "Processing record 523 of Set 1 | atar\n",
      "Processing record 524 of Set 1 | henties bay\n",
      "Processing record 525 of Set 1 | ormara\n",
      "Processing record 526 of Set 1 | enumclaw\n",
      "Processing record 527 of Set 1 | witu\n",
      "Processing record 528 of Set 1 | lincoln\n",
      "Processing record 529 of Set 1 | nortelandia\n",
      "not found\n",
      "Processing record 530 of Set 1 | nuuk\n",
      "Processing record 531 of Set 1 | yulara\n",
      "Processing record 532 of Set 1 | praxedis guerrero\n",
      "Processing record 533 of Set 1 | cluses\n",
      "Processing record 534 of Set 1 | oranjemund\n",
      "Processing record 535 of Set 1 | mareeba\n",
      "not found\n",
      "Processing record 536 of Set 1 | haines junction\n",
      "Processing record 537 of Set 1 | bosaso\n",
      "Processing record 538 of Set 1 | valdivia\n",
      "Processing record 539 of Set 1 | bogorodskoye\n",
      "Processing record 540 of Set 1 | boyolangu\n",
      "Processing record 541 of Set 1 | floro\n",
      "Processing record 542 of Set 1 | port macquarie\n",
      "Processing record 543 of Set 1 | noumea\n",
      "Processing record 544 of Set 1 | cabo san lucas\n",
      "Processing record 545 of Set 1 | truro\n",
      "Processing record 546 of Set 1 | maldonado\n",
      "not found\n",
      "Processing record 547 of Set 1 | dunedin\n",
      "Processing record 548 of Set 1 | ambilobe\n",
      "Processing record 549 of Set 1 | ziro\n",
      "Processing record 550 of Set 1 | joshimath\n",
      "Processing record 551 of Set 1 | lusambo\n",
      "Processing record 552 of Set 1 | ambo\n",
      "Processing record 553 of Set 1 | zhob\n",
      "Processing record 554 of Set 1 | anadyr\n",
      "Processing record 555 of Set 1 | ayan\n",
      "Processing record 556 of Set 1 | okhotsk\n",
      "Processing record 557 of Set 1 | ulaangom\n",
      "Processing record 558 of Set 1 | vostok\n",
      "Processing record 559 of Set 1 | dolinsk\n",
      "Processing record 560 of Set 1 | puerto del rosario\n",
      "Processing record 561 of Set 1 | bayan\n",
      "Processing record 562 of Set 1 | milverton\n",
      "Processing record 563 of Set 1 | bay roberts\n",
      "Processing record 564 of Set 1 | san policarpo\n",
      "Processing record 565 of Set 1 | svetlyy\n",
      "Processing record 566 of Set 1 | praia da vitoria\n",
      "Processing record 567 of Set 1 | san matias\n",
      "Processing record 568 of Set 1 | markala\n",
      "Processing record 569 of Set 1 | saint-louis\n",
      "Processing record 570 of Set 1 | zeerust\n",
      "Processing record 571 of Set 1 | beckley\n",
      "Processing record 572 of Set 1 | healesville\n",
      "Processing record 573 of Set 1 | varkaus\n",
      "Processing record 574 of Set 1 | sheridan\n",
      "Processing record 575 of Set 1 | tecoanapa\n",
      "Processing record 576 of Set 1 | zalari\n",
      "Processing record 577 of Set 1 | notodden\n",
      "Processing record 578 of Set 1 | osoyoos\n",
      "Processing record 579 of Set 1 | clonakilty\n",
      "Processing record 580 of Set 1 | bongouanou\n",
      "Processing record 581 of Set 1 | asilah\n",
      "Processing record 582 of Set 1 | eldorado\n",
      "Processing record 583 of Set 1 | waipawa\n",
      "not found\n",
      "Processing record 584 of Set 1 | faanui\n",
      "Processing record 585 of Set 1 | chilmari\n",
      "Processing record 586 of Set 1 | sampit\n"
     ]
    }
   ],
   "source": [
    "# set up lists to hold reponse info\n",
    "cityname = []\n",
    "cloudiness = []\n",
    "country = []\n",
    "date = []\n",
    "humidity = []\n",
    "lat = []\n",
    "lng = []\n",
    "max_temp = []\n",
    "wind_speed = []\n",
    "count = 0\n",
    "\n",
    "#  response = requests.get(query_url + city).json()\n",
    "    \n",
    "# Loop through the list of cities and perform a request for data on each\n",
    "\n",
    "for city in cities:\n",
    "    weather_response = requests.get(target_url + \"&q=\" + city + \"&units=Imperial\")\n",
    "    weather_json = weather_response.json()\n",
    "    try:\n",
    "        cityname.append(weather_json['city']['name'])\n",
    "        cloudiness.append(weather_json['list'][0]['clouds']['all'])\n",
    "        country.append(weather_json['city']['country'])\n",
    "        date.append(weather_json['list'][0]['dt'])\n",
    "        humidity.append(weather_json['list'][0]['main']['humidity'])\n",
    "        lat.append(weather_json['city']['coord']['lat'])\n",
    "        lng.append(weather_json['city']['coord']['lon'])\n",
    "        max_temp.append(weather_json['list'][0]['main']['temp_max'])\n",
    "        wind_speed.append(weather_json['list'][0]['wind']['speed'])\n",
    "        count = count + 1\n",
    "        print(f\"Processing record {count} of Set 1 | {city}\")\n",
    "    except:\n",
    "        print(\"not found\") \n",
    "        pass"
   ]
  },
  {
   "cell_type": "markdown",
   "metadata": {},
   "source": [
    "### Convert Raw Data to DataFrame\n",
    "* Export the city data into a .csv.\n",
    "* Display the DataFrame"
   ]
  },
  {
   "cell_type": "code",
   "execution_count": 13,
   "metadata": {},
   "outputs": [
    {
     "data": {
      "text/html": [
       "<div>\n",
       "<style scoped>\n",
       "    .dataframe tbody tr th:only-of-type {\n",
       "        vertical-align: middle;\n",
       "    }\n",
       "\n",
       "    .dataframe tbody tr th {\n",
       "        vertical-align: top;\n",
       "    }\n",
       "\n",
       "    .dataframe thead th {\n",
       "        text-align: right;\n",
       "    }\n",
       "</style>\n",
       "<table border=\"1\" class=\"dataframe\">\n",
       "  <thead>\n",
       "    <tr style=\"text-align: right;\">\n",
       "      <th></th>\n",
       "      <th>City</th>\n",
       "      <th>Latitude</th>\n",
       "      <th>Longitude</th>\n",
       "      <th>Max Temp</th>\n",
       "      <th>Humidity</th>\n",
       "      <th>Cloudiness</th>\n",
       "      <th>Wind Speed</th>\n",
       "      <th>Country</th>\n",
       "      <th>Date</th>\n",
       "    </tr>\n",
       "  </thead>\n",
       "  <tbody>\n",
       "    <tr>\n",
       "      <th>0</th>\n",
       "      <td>Monrovia</td>\n",
       "      <td>6.3005</td>\n",
       "      <td>-10.7969</td>\n",
       "      <td>79.66</td>\n",
       "      <td>79</td>\n",
       "      <td>99</td>\n",
       "      <td>9.78</td>\n",
       "      <td>LR</td>\n",
       "      <td>1649062800</td>\n",
       "    </tr>\n",
       "    <tr>\n",
       "      <th>1</th>\n",
       "      <td>Oktyabr'skiy</td>\n",
       "      <td>54.4815</td>\n",
       "      <td>53.4710</td>\n",
       "      <td>38.14</td>\n",
       "      <td>100</td>\n",
       "      <td>100</td>\n",
       "      <td>3.44</td>\n",
       "      <td>RU</td>\n",
       "      <td>1649062800</td>\n",
       "    </tr>\n",
       "    <tr>\n",
       "      <th>2</th>\n",
       "      <td>Barrow</td>\n",
       "      <td>71.2906</td>\n",
       "      <td>-156.7887</td>\n",
       "      <td>-2.18</td>\n",
       "      <td>78</td>\n",
       "      <td>100</td>\n",
       "      <td>8.52</td>\n",
       "      <td>US</td>\n",
       "      <td>1649062800</td>\n",
       "    </tr>\n",
       "    <tr>\n",
       "      <th>3</th>\n",
       "      <td>Capitán Bado</td>\n",
       "      <td>-23.2667</td>\n",
       "      <td>-55.5333</td>\n",
       "      <td>68.63</td>\n",
       "      <td>89</td>\n",
       "      <td>37</td>\n",
       "      <td>6.69</td>\n",
       "      <td>PY</td>\n",
       "      <td>1649062800</td>\n",
       "    </tr>\n",
       "    <tr>\n",
       "      <th>4</th>\n",
       "      <td>Bambous Virieux</td>\n",
       "      <td>-20.3428</td>\n",
       "      <td>57.7575</td>\n",
       "      <td>82.65</td>\n",
       "      <td>78</td>\n",
       "      <td>75</td>\n",
       "      <td>16.28</td>\n",
       "      <td>MU</td>\n",
       "      <td>1649062800</td>\n",
       "    </tr>\n",
       "  </tbody>\n",
       "</table>\n",
       "</div>"
      ],
      "text/plain": [
       "              City  Latitude  Longitude  Max Temp  Humidity  Cloudiness  \\\n",
       "0         Monrovia    6.3005   -10.7969     79.66        79          99   \n",
       "1     Oktyabr'skiy   54.4815    53.4710     38.14       100         100   \n",
       "2           Barrow   71.2906  -156.7887     -2.18        78         100   \n",
       "3     Capitán Bado  -23.2667   -55.5333     68.63        89          37   \n",
       "4  Bambous Virieux  -20.3428    57.7575     82.65        78          75   \n",
       "\n",
       "   Wind Speed Country        Date  \n",
       "0        9.78      LR  1649062800  \n",
       "1        3.44      RU  1649062800  \n",
       "2        8.52      US  1649062800  \n",
       "3        6.69      PY  1649062800  \n",
       "4       16.28      MU  1649062800  "
      ]
     },
     "execution_count": 13,
     "metadata": {},
     "output_type": "execute_result"
    }
   ],
   "source": [
    "# Convert array of JSONs into Pandas DataFrame\n",
    "\n",
    "weather_dictionary = {\"City\": cityname,\"Latitude\": lat, \"Longitude\":lng,\n",
    "                \"Max Temp\":max_temp,\"Humidity\":humidity,\"Cloudiness\":cloudiness,\n",
    "                \"Wind Speed\":wind_speed,\"Country\":country, \"Date\":date}\n",
    "weather_data = pd.DataFrame(weather_dictionary)\n",
    "weather_data.head()"
   ]
  },
  {
   "cell_type": "code",
   "execution_count": 14,
   "metadata": {},
   "outputs": [
    {
     "data": {
      "text/plain": [
       "586"
      ]
     },
     "execution_count": 14,
     "metadata": {},
     "output_type": "execute_result"
    }
   ],
   "source": [
    "# Export the City_Data into a csv\n",
    "weather_data.to_csv(\"../output_data/weather_api.csv\")\n",
    "# Show Record Count\n",
    "countforme = len(weather_data)\n",
    "countforme"
   ]
  },
  {
   "cell_type": "code",
   "execution_count": 15,
   "metadata": {},
   "outputs": [
    {
     "data": {
      "text/html": [
       "<div>\n",
       "<style scoped>\n",
       "    .dataframe tbody tr th:only-of-type {\n",
       "        vertical-align: middle;\n",
       "    }\n",
       "\n",
       "    .dataframe tbody tr th {\n",
       "        vertical-align: top;\n",
       "    }\n",
       "\n",
       "    .dataframe thead th {\n",
       "        text-align: right;\n",
       "    }\n",
       "</style>\n",
       "<table border=\"1\" class=\"dataframe\">\n",
       "  <thead>\n",
       "    <tr style=\"text-align: right;\">\n",
       "      <th></th>\n",
       "      <th>City</th>\n",
       "      <th>Latitude</th>\n",
       "      <th>Longitude</th>\n",
       "      <th>Max Temp</th>\n",
       "      <th>Humidity</th>\n",
       "      <th>Cloudiness</th>\n",
       "      <th>Wind Speed</th>\n",
       "      <th>Country</th>\n",
       "      <th>Date</th>\n",
       "    </tr>\n",
       "  </thead>\n",
       "  <tbody>\n",
       "    <tr>\n",
       "      <th>0</th>\n",
       "      <td>Monrovia</td>\n",
       "      <td>6.3005</td>\n",
       "      <td>-10.7969</td>\n",
       "      <td>79.66</td>\n",
       "      <td>79</td>\n",
       "      <td>99</td>\n",
       "      <td>9.78</td>\n",
       "      <td>LR</td>\n",
       "      <td>1649062800</td>\n",
       "    </tr>\n",
       "    <tr>\n",
       "      <th>1</th>\n",
       "      <td>Oktyabr'skiy</td>\n",
       "      <td>54.4815</td>\n",
       "      <td>53.4710</td>\n",
       "      <td>38.14</td>\n",
       "      <td>100</td>\n",
       "      <td>100</td>\n",
       "      <td>3.44</td>\n",
       "      <td>RU</td>\n",
       "      <td>1649062800</td>\n",
       "    </tr>\n",
       "    <tr>\n",
       "      <th>2</th>\n",
       "      <td>Barrow</td>\n",
       "      <td>71.2906</td>\n",
       "      <td>-156.7887</td>\n",
       "      <td>-2.18</td>\n",
       "      <td>78</td>\n",
       "      <td>100</td>\n",
       "      <td>8.52</td>\n",
       "      <td>US</td>\n",
       "      <td>1649062800</td>\n",
       "    </tr>\n",
       "    <tr>\n",
       "      <th>3</th>\n",
       "      <td>Capitán Bado</td>\n",
       "      <td>-23.2667</td>\n",
       "      <td>-55.5333</td>\n",
       "      <td>68.63</td>\n",
       "      <td>89</td>\n",
       "      <td>37</td>\n",
       "      <td>6.69</td>\n",
       "      <td>PY</td>\n",
       "      <td>1649062800</td>\n",
       "    </tr>\n",
       "    <tr>\n",
       "      <th>4</th>\n",
       "      <td>Bambous Virieux</td>\n",
       "      <td>-20.3428</td>\n",
       "      <td>57.7575</td>\n",
       "      <td>82.65</td>\n",
       "      <td>78</td>\n",
       "      <td>75</td>\n",
       "      <td>16.28</td>\n",
       "      <td>MU</td>\n",
       "      <td>1649062800</td>\n",
       "    </tr>\n",
       "  </tbody>\n",
       "</table>\n",
       "</div>"
      ],
      "text/plain": [
       "              City  Latitude  Longitude  Max Temp  Humidity  Cloudiness  \\\n",
       "0         Monrovia    6.3005   -10.7969     79.66        79          99   \n",
       "1     Oktyabr'skiy   54.4815    53.4710     38.14       100         100   \n",
       "2           Barrow   71.2906  -156.7887     -2.18        78         100   \n",
       "3     Capitán Bado  -23.2667   -55.5333     68.63        89          37   \n",
       "4  Bambous Virieux  -20.3428    57.7575     82.65        78          75   \n",
       "\n",
       "   Wind Speed Country        Date  \n",
       "0        9.78      LR  1649062800  \n",
       "1        3.44      RU  1649062800  \n",
       "2        8.52      US  1649062800  \n",
       "3        6.69      PY  1649062800  \n",
       "4       16.28      MU  1649062800  "
      ]
     },
     "execution_count": 15,
     "metadata": {},
     "output_type": "execute_result"
    }
   ],
   "source": [
    "# Display the City Data Frame\n",
    "weather_data.head()"
   ]
  },
  {
   "cell_type": "markdown",
   "metadata": {},
   "source": [
    "## Inspect the data and remove the cities where the humidity > 100%.\n",
    "----\n",
    "Skip this step if there are no cities that have humidity > 100%. "
   ]
  },
  {
   "cell_type": "code",
   "execution_count": null,
   "metadata": {},
   "outputs": [],
   "source": [
    "\n"
   ]
  },
  {
   "cell_type": "markdown",
   "metadata": {},
   "source": [
    "## Plotting the Data\n",
    "* Use proper labeling of the plots using plot titles (including date of analysis) and axes labels.\n",
    "* Save the plotted figures as .pngs."
   ]
  },
  {
   "cell_type": "markdown",
   "metadata": {},
   "source": [
    "## Latitude vs. Temperature Plot"
   ]
  },
  {
   "cell_type": "code",
   "execution_count": 29,
   "metadata": {},
   "outputs": [
    {
     "data": {
      "image/png": "[encoded data removed]",
      "text/plain": [
       "<Figure size 432x288 with 1 Axes>"
      ]
     },
     "metadata": {
      "needs_background": "light"
     },
     "output_type": "display_data"
    }
   ],
   "source": [
    "# Build scatter plot for latitude vs. temperature\n",
    "# Incorporate the other graph properties\n",
    "# Save the figure\n",
    "# Show plot\n",
    "scatlat = weather_data[\"Latitude\"]\n",
    "scattemp = weather_data[\"Max Temp\"]\n",
    "\n",
    "plt.scatter(scatlat,scattemp)\n",
    "plt.title('City Latitude vs. Max Temperature')\n",
    "plt.xlabel('Latitude')\n",
    "plt.ylabel('Max Temperature (F)')\n",
    "plt.savefig('scatplotlatitudemaxtemp')\n",
    "plt.savefig('../output_data/Latvs.Temp.png')\n",
    "plt.show()"
   ]
  },
  {
   "cell_type": "markdown",
   "metadata": {},
   "source": [
    "## Latitude vs. Humidity Plot"
   ]
  },
  {
   "cell_type": "code",
   "execution_count": 30,
   "metadata": {},
   "outputs": [
    {
     "data": {
      "image/png": "[encoded data removed]",
      "text/plain": [
       "<Figure size 432x288 with 1 Axes>"
      ]
     },
     "metadata": {
      "needs_background": "light"
     },
     "output_type": "display_data"
    }
   ],
   "source": [
    "# Build the scatter plots for latitude vs. humidity\n",
    "# Incorporate the other graph properties\n",
    "# Save the figure\n",
    "# Show plot\n",
    "\n",
    "#scatlat = weather_data[\"Latitude\"]\n",
    "scathum = weather_data[\"Humidity\"]\n",
    "\n",
    "plt.scatter(scatlat,scathum)\n",
    "plt.title('City Latitude vs. Humidity')\n",
    "plt.xlabel('Latitude')\n",
    "plt.ylabel('Humidity (%)')\n",
    "plt.savefig('scatplotlatitudehumidity')\n",
    "plt.savefig('../output_data/Latvs.Hum.png')\n",
    "plt.show()"
   ]
  },
  {
   "cell_type": "markdown",
   "metadata": {},
   "source": [
    "## Latitude vs. Cloudiness Plot"
   ]
  },
  {
   "cell_type": "code",
   "execution_count": 31,
   "metadata": {},
   "outputs": [
    {
     "data": {
      "image/png": "[encoded data removed]",
      "text/plain": [
       "<Figure size 432x288 with 1 Axes>"
      ]
     },
     "metadata": {
      "needs_background": "light"
     },
     "output_type": "display_data"
    }
   ],
   "source": [
    "# Build the scatter plots for latitude vs. cloudiness\n",
    "# Incorporate the other graph properties\n",
    "# Save the figure\n",
    "# Show plot\n",
    "#scatlat = weather_data[\"Latitude\"]\n",
    "scatcloud = weather_data[\"Cloudiness\"]\n",
    "\n",
    "plt.scatter(scatlat,scatcloud)\n",
    "plt.title('City Latitude vs. Cloudiness')\n",
    "plt.xlabel('Latitude')\n",
    "plt.ylabel('Cloudiness (%)')\n",
    "plt.savefig('scatplotlatitudecloudiness')\n",
    "plt.savefig('../output_data/Latvs.Cloud.png')\n",
    "plt.show()"
   ]
  },
  {
   "cell_type": "markdown",
   "metadata": {},
   "source": [
    "## Latitude vs. Wind Speed Plot"
   ]
  },
  {
   "cell_type": "code",
   "execution_count": 32,
   "metadata": {},
   "outputs": [
    {
     "data": {
      "image/png": "[encoded data removed]",
      "text/plain": [
       "<Figure size 432x288 with 1 Axes>"
      ]
     },
     "metadata": {
      "needs_background": "light"
     },
     "output_type": "display_data"
    }
   ],
   "source": [
    "# Build the scatter plots for latitude vs. wind speed\n",
    "# Incorporate the other graph properties\n",
    "# Save the figure\n",
    "# Show plot\n",
    "\n",
    "#scatlat = weather_data[\"Latitude\"]\n",
    "scatwindsp = weather_data[\"Wind Speed\"]\n",
    "\n",
    "plt.scatter(scatlat,scatwindsp)\n",
    "plt.title('City Latitude vs. Wind Speed')\n",
    "plt.xlabel('Latitude')\n",
    "plt.ylabel('Wind Speed (mph)')\n",
    "plt.savefig('scatplotlatitudewindspeed')\n",
    "plt.savefig('../output_data/Latvs.Wind.png')\n",
    "plt.show()"
   ]
  },
  {
   "cell_type": "markdown",
   "metadata": {},
   "source": [
    "## Linear Regression"
   ]
  },
  {
   "cell_type": "code",
   "execution_count": 33,
   "metadata": {},
   "outputs": [
    {
     "data": {
      "text/html": [
       "<div>\n",
       "<style scoped>\n",
       "    .dataframe tbody tr th:only-of-type {\n",
       "        vertical-align: middle;\n",
       "    }\n",
       "\n",
       "    .dataframe tbody tr th {\n",
       "        vertical-align: top;\n",
       "    }\n",
       "\n",
       "    .dataframe thead th {\n",
       "        text-align: right;\n",
       "    }\n",
       "</style>\n",
       "<table border=\"1\" class=\"dataframe\">\n",
       "  <thead>\n",
       "    <tr style=\"text-align: right;\">\n",
       "      <th></th>\n",
       "      <th>City</th>\n",
       "      <th>Latitude</th>\n",
       "      <th>Longitude</th>\n",
       "      <th>Max Temp</th>\n",
       "      <th>Humidity</th>\n",
       "      <th>Cloudiness</th>\n",
       "      <th>Wind Speed</th>\n",
       "      <th>Country</th>\n",
       "      <th>Date</th>\n",
       "    </tr>\n",
       "  </thead>\n",
       "  <tbody>\n",
       "    <tr>\n",
       "      <th>0</th>\n",
       "      <td>Monrovia</td>\n",
       "      <td>6.3005</td>\n",
       "      <td>-10.7969</td>\n",
       "      <td>79.66</td>\n",
       "      <td>79</td>\n",
       "      <td>99</td>\n",
       "      <td>9.78</td>\n",
       "      <td>LR</td>\n",
       "      <td>1649062800</td>\n",
       "    </tr>\n",
       "    <tr>\n",
       "      <th>1</th>\n",
       "      <td>Oktyabr'skiy</td>\n",
       "      <td>54.4815</td>\n",
       "      <td>53.4710</td>\n",
       "      <td>38.14</td>\n",
       "      <td>100</td>\n",
       "      <td>100</td>\n",
       "      <td>3.44</td>\n",
       "      <td>RU</td>\n",
       "      <td>1649062800</td>\n",
       "    </tr>\n",
       "    <tr>\n",
       "      <th>2</th>\n",
       "      <td>Barrow</td>\n",
       "      <td>71.2906</td>\n",
       "      <td>-156.7887</td>\n",
       "      <td>-2.18</td>\n",
       "      <td>78</td>\n",
       "      <td>100</td>\n",
       "      <td>8.52</td>\n",
       "      <td>US</td>\n",
       "      <td>1649062800</td>\n",
       "    </tr>\n",
       "    <tr>\n",
       "      <th>5</th>\n",
       "      <td>Bama</td>\n",
       "      <td>11.5221</td>\n",
       "      <td>13.6856</td>\n",
       "      <td>96.01</td>\n",
       "      <td>9</td>\n",
       "      <td>69</td>\n",
       "      <td>3.53</td>\n",
       "      <td>NG</td>\n",
       "      <td>1649062800</td>\n",
       "    </tr>\n",
       "    <tr>\n",
       "      <th>6</th>\n",
       "      <td>Nishihara</td>\n",
       "      <td>26.1842</td>\n",
       "      <td>127.7558</td>\n",
       "      <td>68.50</td>\n",
       "      <td>60</td>\n",
       "      <td>75</td>\n",
       "      <td>13.18</td>\n",
       "      <td>JP</td>\n",
       "      <td>1649062800</td>\n",
       "    </tr>\n",
       "  </tbody>\n",
       "</table>\n",
       "</div>"
      ],
      "text/plain": [
       "           City  Latitude  Longitude  Max Temp  Humidity  Cloudiness  \\\n",
       "0      Monrovia    6.3005   -10.7969     79.66        79          99   \n",
       "1  Oktyabr'skiy   54.4815    53.4710     38.14       100         100   \n",
       "2        Barrow   71.2906  -156.7887     -2.18        78         100   \n",
       "5          Bama   11.5221    13.6856     96.01         9          69   \n",
       "6     Nishihara   26.1842   127.7558     68.50        60          75   \n",
       "\n",
       "   Wind Speed Country        Date  \n",
       "0        9.78      LR  1649062800  \n",
       "1        3.44      RU  1649062800  \n",
       "2        8.52      US  1649062800  \n",
       "5        3.53      NG  1649062800  \n",
       "6       13.18      JP  1649062800  "
      ]
     },
     "execution_count": 33,
     "metadata": {},
     "output_type": "execute_result"
    }
   ],
   "source": [
    "def plot_linear_regression(x_values, y_values, title, text_coordinates):\n",
    "    (slope, intercept, rvalue, pvalue, stderr) = linregress(x_values, y_values)\n",
    "    regress_values = x_values * slope + intercept\n",
    "    line_eq = \"y = \" + str(round(slope,2)) + \"x + \" + str(round(intercept,2))\n",
    "\n",
    "    plt.scatter(x_values,y_values)\n",
    "    plt.plot(x_values,regress_values,\"r-\")\n",
    "    plt.annotate(line_eq,text_coordinates,fontsize=14,color=\"red\")\n",
    "    plt.xlabel(\"Latitude\")\n",
    "    plt.ylabel(title)\n",
    "    print(f\"The r-squared is: {rvalue}\")\n",
    "    plt.show()\n",
    "\n",
    "# Create Northern and Southern Hemisphere DataFrames\n",
    "northlat_df = weather_data.loc[weather_data[\"Latitude\"] >= 0,:]\n",
    "southlat_df = weather_data.loc[weather_data[\"Latitude\"] < 0,:]\n",
    "\n",
    "northlat_df.head()"
   ]
  },
  {
   "cell_type": "markdown",
   "metadata": {},
   "source": [
    "####  Northern Hemisphere - Max Temp vs. Latitude Linear Regression"
   ]
  },
  {
   "cell_type": "code",
   "execution_count": 34,
   "metadata": {},
   "outputs": [
    {
     "name": "stdout",
     "output_type": "stream",
     "text": [
      "The r-squared is: -0.873347406166905\n"
     ]
    },
    {
     "data": {
      "image/png": "[encoded data removed]",
      "text/plain": [
       "<Figure size 432x288 with 1 Axes>"
      ]
     },
     "metadata": {
      "needs_background": "light"
     },
     "output_type": "display_data"
    },
    {
     "data": {
      "text/plain": [
       "<Figure size 432x288 with 0 Axes>"
      ]
     },
     "metadata": {},
     "output_type": "display_data"
    }
   ],
   "source": [
    "x_values = northlat_df[\"Latitude\"]\n",
    "y_values = northlat_df[\"Max Temp\"]\n",
    "plot_linear_regression(x_values,y_values,'Max Temp',(6,30))\n",
    "plt.savefig('../output_data/northerntemplat')\n",
    "plt.savefig('northerntemplat')"
   ]
  },
  {
   "cell_type": "markdown",
   "metadata": {},
   "source": [
    "####  Southern Hemisphere - Max Temp vs. Latitude Linear Regression"
   ]
  },
  {
   "cell_type": "code",
   "execution_count": 35,
   "metadata": {},
   "outputs": [
    {
     "name": "stdout",
     "output_type": "stream",
     "text": [
      "The r-squared is: 0.660970297948489\n"
     ]
    },
    {
     "data": {
      "image/png": "[encoded data removed]",
      "text/plain": [
       "<Figure size 432x288 with 1 Axes>"
      ]
     },
     "metadata": {
      "needs_background": "light"
     },
     "output_type": "display_data"
    },
    {
     "data": {
      "text/plain": [
       "<Figure size 432x288 with 0 Axes>"
      ]
     },
     "metadata": {},
     "output_type": "display_data"
    }
   ],
   "source": [
    "x_values = southlat_df[\"Latitude\"]\n",
    "y_values = southlat_df[\"Max Temp\"]\n",
    "plot_linear_regression(x_values,y_values,'Max Temp',(6,30))\n",
    "plt.savefig('../output_data/southerntemplat')\n",
    "plt.savefig('southerntemplat')"
   ]
  },
  {
   "cell_type": "markdown",
   "metadata": {},
   "source": [
    "####  Northern Hemisphere - Humidity (%) vs. Latitude Linear Regression"
   ]
  },
  {
   "cell_type": "code",
   "execution_count": 36,
   "metadata": {},
   "outputs": [
    {
     "name": "stdout",
     "output_type": "stream",
     "text": [
      "The r-squared is: 0.30765387840664776\n"
     ]
    },
    {
     "data": {
      "image/png": "[encoded data removed]",
      "text/plain": [
       "<Figure size 432x288 with 1 Axes>"
      ]
     },
     "metadata": {
      "needs_background": "light"
     },
     "output_type": "display_data"
    },
    {
     "data": {
      "text/plain": [
       "<Figure size 432x288 with 0 Axes>"
      ]
     },
     "metadata": {},
     "output_type": "display_data"
    }
   ],
   "source": [
    "x_values = northlat_df[\"Latitude\"]\n",
    "y_values = northlat_df[\"Humidity\"]\n",
    "plot_linear_regression(x_values,y_values,'Humidity',(6,30))\n",
    "plt.savefig('../output_data/northernhumlat')\n",
    "plt.savefig('northernhumlat')"
   ]
  },
  {
   "cell_type": "markdown",
   "metadata": {},
   "source": [
    "####  Southern Hemisphere - Humidity (%) vs. Latitude Linear Regression"
   ]
  },
  {
   "cell_type": "code",
   "execution_count": 37,
   "metadata": {},
   "outputs": [
    {
     "name": "stdout",
     "output_type": "stream",
     "text": [
      "The r-squared is: 0.1467121882715319\n"
     ]
    },
    {
     "data": {
      "image/png": "[encoded data removed]",
      "text/plain": [
       "<Figure size 432x288 with 1 Axes>"
      ]
     },
     "metadata": {
      "needs_background": "light"
     },
     "output_type": "display_data"
    },
    {
     "data": {
      "text/plain": [
       "<Figure size 432x288 with 0 Axes>"
      ]
     },
     "metadata": {},
     "output_type": "display_data"
    }
   ],
   "source": [
    "x_values = southlat_df[\"Latitude\"]\n",
    "y_values = southlat_df[\"Humidity\"]\n",
    "plot_linear_regression(x_values,y_values,'Humidity',(6,30))\n",
    "plt.savefig('../output_data/southernhumlat')\n",
    "plt.savefig('southernhumlat')"
   ]
  },
  {
   "cell_type": "markdown",
   "metadata": {},
   "source": [
    "####  Northern Hemisphere - Cloudiness (%) vs. Latitude Linear Regression"
   ]
  },
  {
   "cell_type": "code",
   "execution_count": 38,
   "metadata": {},
   "outputs": [
    {
     "name": "stdout",
     "output_type": "stream",
     "text": [
      "The r-squared is: 0.1928587558181795\n"
     ]
    },
    {
     "data": {
      "image/png": "[encoded data removed]",
      "text/plain": [
       "<Figure size 432x288 with 1 Axes>"
      ]
     },
     "metadata": {
      "needs_background": "light"
     },
     "output_type": "display_data"
    }
   ],
   "source": [
    "x_values = northlat_df[\"Latitude\"]\n",
    "y_values = northlat_df[\"Cloudiness\"]\n",
    "plt.savefig('../output_data/northerncloudlat')\n",
    "plot_linear_regression(x_values,y_values,'Cloudiness',(6,30))"
   ]
  },
  {
   "cell_type": "markdown",
   "metadata": {},
   "source": [
    "####  Southern Hemisphere - Cloudiness (%) vs. Latitude Linear Regression"
   ]
  },
  {
   "cell_type": "code",
   "execution_count": 39,
   "metadata": {},
   "outputs": [
    {
     "name": "stdout",
     "output_type": "stream",
     "text": [
      "The r-squared is: 0.19736937709163976\n"
     ]
    },
    {
     "data": {
      "image/png": "[encoded data removed]",
      "text/plain": [
       "<Figure size 432x288 with 1 Axes>"
      ]
     },
     "metadata": {
      "needs_background": "light"
     },
     "output_type": "display_data"
    },
    {
     "data": {
      "text/plain": [
       "<Figure size 432x288 with 0 Axes>"
      ]
     },
     "metadata": {},
     "output_type": "display_data"
    }
   ],
   "source": [
    "x_values = southlat_df[\"Latitude\"]\n",
    "y_values = southlat_df[\"Cloudiness\"]\n",
    "plot_linear_regression(x_values,y_values,'Cloudiness',(6,30))\n",
    "plt.savefig('../output_data/southerncloudlat')\n",
    "plt.savefig('southerncloudlat')"
   ]
  },
  {
   "cell_type": "markdown",
   "metadata": {},
   "source": [
    "####  Northern Hemisphere - Wind Speed (mph) vs. Latitude Linear Regression"
   ]
  },
  {
   "cell_type": "code",
   "execution_count": 40,
   "metadata": {},
   "outputs": [
    {
     "name": "stdout",
     "output_type": "stream",
     "text": [
      "The r-squared is: 0.08035155009203974\n"
     ]
    },
    {
     "data": {
      "image/png": "[encoded data removed]",
      "text/plain": [
       "<Figure size 432x288 with 1 Axes>"
      ]
     },
     "metadata": {
      "needs_background": "light"
     },
     "output_type": "display_data"
    }
   ],
   "source": [
    "x_values = northlat_df[\"Latitude\"]\n",
    "y_values = northlat_df[\"Wind Speed\"]\n",
    "plt.savefig('../output_data/northernwindlat')\n",
    "plot_linear_regression(x_values,y_values,'Wind Speed',(6,30))"
   ]
  },
  {
   "cell_type": "markdown",
   "metadata": {},
   "source": [
    "####  Southern Hemisphere - Wind Speed (mph) vs. Latitude Linear Regression"
   ]
  },
  {
   "cell_type": "code",
   "execution_count": 41,
   "metadata": {},
   "outputs": [
    {
     "name": "stdout",
     "output_type": "stream",
     "text": [
      "The r-squared is: -0.2530206721313965\n"
     ]
    },
    {
     "data": {
      "image/png": "[encoded data removed]",
      "text/plain": [
       "<Figure size 432x288 with 1 Axes>"
      ]
     },
     "metadata": {
      "needs_background": "light"
     },
     "output_type": "display_data"
    },
    {
     "data": {
      "text/plain": [
       "<Figure size 432x288 with 0 Axes>"
      ]
     },
     "metadata": {},
     "output_type": "display_data"
    }
   ],
   "source": [
    "x_values = southlat_df[\"Latitude\"]\n",
    "y_values = southlat_df[\"Wind Speed\"]\n",
    "plot_linear_regression(x_values,y_values,'Wind Speed',(6,30))\n",
    "plt.savefig('../output_data/southernwindlat')\n",
    "plt.savefig('southernwindlat')\n"
   ]
  }
 ],
 "metadata": {
  "anaconda-cloud": {},
  "kernel_info": {
   "name": "python3"
  },
  "kernelspec": {
   "display_name": "Python 3 (ipykernel)",
   "language": "python",
   "name": "python3"
  },
  "language_info": {
   "codemirror_mode": {
    "name": "ipython",
    "version": 3
   },
   "file_extension": ".py",
   "mimetype": "text/x-python",
   "name": "python",
   "nbconvert_exporter": "python",
   "pygments_lexer": "ipython3",
   "version": "3.9.7"
  },
  "latex_envs": {
   "LaTeX_envs_menu_present": true,
   "autoclose": false,
   "autocomplete": true,
   "bibliofile": "biblio.bib",
   "cite_by": "apalike",
   "current_citInitial": 1,
   "eqLabelWithNumbers": true,
   "eqNumInitial": 1,
   "hotkeys": {
    "equation": "Ctrl-E",
    "itemize": "Ctrl-I"
   },
   "labels_anchors": false,
   "latex_user_defs": false,
   "report_style_numbering": false,
   "user_envs_cfg": false
  },
  "nteract": {
   "version": "0.12.3"
  }
 },
 "nbformat": 4,
 "nbformat_minor": 2
}
